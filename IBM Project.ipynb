{
  "cells": [
    {
      "cell_type": "code",
      "execution_count": null,
      "metadata": {
        "colab": {
          "base_uri": "https://localhost:8080/"
        },
        "id": "60Lw1INcSJFA",
        "outputId": "d0df009a-0a10-4556-91ba-5de0d478d9d3"
      },
      "outputs": [
        {
          "name": "stdout",
          "output_type": "stream",
          "text": [
            "What is your name? lol\n",
            "Good afternoon, lol! How can I assist you today?\n",
            "What would you like me to do? nothing\n",
            "I'm sorry, I don't understand that task.\n",
            "What would you like me to do? lol\n",
            "I'm sorry, I don't understand that task.\n",
            "What would you like me to do? greet\n",
            "I'm sorry, I don't understand that task.\n"
          ]
        }
      ],
      "source": [
        "import datetime\n",
        "\n",
        "def greet(name):\n",
        "    \"\"\"Greets the user with a personalized message.\"\"\"\n",
        "    current_hour = datetime.datetime.now().hour\n",
        "    if current_hour < 12:\n",
        "        greeting = \"Good morning\"\n",
        "    elif current_hour < 18:\n",
        "        greeting = \"Good afternoon\"\n",
        "    else:\n",
        "        greeting = \"Good evening\"\n",
        "    print(f\"{greeting}, {name}! How can I assist you today?\")\n",
        "\n",
        "def get_task():\n",
        "    \"\"\"Gets the task from the user.\"\"\"\n",
        "    task = input(\"What would you like me to do? \")\n",
        "    return task\n",
        "\n",
        "def perform_task(task):\n",
        "    \"\"\"Performs the task specified by the user.\"\"\"\n",
        "    if \"time\" in task:\n",
        "        current_time = datetime.datetime.now().strftime(\"%H:%M:%S\")\n",
        "        print(f\"The current time is {current_time}.\")\n",
        "    elif \"date\" in task:\n",
        "        current_date = datetime.datetime.now().strftime(\"%Y-%m-%d\")\n",
        "        print(f\"Today's date is {current_date}.\")\n",
        "    else:\n",
        "        print(\"I'm sorry, I don't understand that task.\")\n",
        "\n",
        "def main():\n",
        "    \"\"\"Main function to run the assistant.\"\"\"\n",
        "    name = input(\"What is your name? \")\n",
        "    greet(name)\n",
        "    while True:\n",
        "        task = get_task()\n",
        "        if task.lower() == \"exit\":\n",
        "            print(\"Goodbye!\")\n",
        "            break\n",
        "        perform_task(task)\n",
        "\n",
        "if __name__ == \"__main__\":\n",
        "    main()"
      ]
    }
  ],
  "metadata": {
    "colab": {
      "provenance": []
    },
    "kernelspec": {
      "display_name": "Python 3",
      "name": "python3"
    },
    "language_info": {
      "name": "python"
    }
  },
  "nbformat": 4,
  "nbformat_minor": 0
}
